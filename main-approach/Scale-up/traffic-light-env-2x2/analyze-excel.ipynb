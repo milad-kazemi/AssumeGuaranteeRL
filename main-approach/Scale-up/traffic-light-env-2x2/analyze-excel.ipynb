{
 "cells": [
  {
   "cell_type": "code",
   "execution_count": 1,
   "metadata": {
    "collapsed": true
   },
   "outputs": [],
   "source": [
    "import pandas as pd"
   ]
  },
  {
   "cell_type": "code",
   "execution_count": 2,
   "metadata": {
    "collapsed": true
   },
   "outputs": [],
   "source": [
    "data = pd.read_excel('run-data.xlsx')"
   ]
  },
  {
   "cell_type": "code",
   "execution_count": 3,
   "metadata": {},
   "outputs": [
    {
     "data": {
      "text/plain": [
       "(12, 33)"
      ]
     },
     "execution_count": 3,
     "metadata": {},
     "output_type": "execute_result"
    }
   ],
   "source": [
    "data.shape"
   ]
  },
  {
   "cell_type": "code",
   "execution_count": 4,
   "metadata": {
    "collapsed": true
   },
   "outputs": [],
   "source": [
    "# data.drop(len(data)-1, inplace=True)"
   ]
  },
  {
   "cell_type": "code",
   "execution_count": 5,
   "metadata": {
    "collapsed": true
   },
   "outputs": [],
   "source": [
    "# data.to_excel('../run-data.xlsx', index=False)"
   ]
  },
  {
   "cell_type": "code",
   "execution_count": 6,
   "metadata": {},
   "outputs": [
    {
     "data": {
      "text/html": [
       "<div>\n",
       "<style scoped>\n",
       "    .dataframe tbody tr th:only-of-type {\n",
       "        vertical-align: middle;\n",
       "    }\n",
       "\n",
       "    .dataframe tbody tr th {\n",
       "        vertical-align: top;\n",
       "    }\n",
       "\n",
       "    .dataframe thead th {\n",
       "        text-align: right;\n",
       "    }\n",
       "</style>\n",
       "<table border=\"1\" class=\"dataframe\">\n",
       "  <thead>\n",
       "    <tr style=\"text-align: right;\">\n",
       "      <th></th>\n",
       "      <th>rollout</th>\n",
       "      <th>waitingTime</th>\n",
       "      <th>time</th>\n",
       "      <th>rew</th>\n",
       "      <th>Ep_num_train_rollouts</th>\n",
       "      <th>Ep_rollout_length</th>\n",
       "      <th>Ep_eval_freq</th>\n",
       "      <th>Ep_eval_num_eps</th>\n",
       "      <th>Ep_max_ep_steps</th>\n",
       "      <th>Ep_generation_ep_steps</th>\n",
       "      <th>...</th>\n",
       "      <th>P_value_loss_coef</th>\n",
       "      <th>P_hidden_layer_size</th>\n",
       "      <th>R_rule_set</th>\n",
       "      <th>R_rule_set_params</th>\n",
       "      <th>En_shape</th>\n",
       "      <th>En_rush_hour</th>\n",
       "      <th>En_uniform_generation_probability</th>\n",
       "      <th>M_reward_interpolation</th>\n",
       "      <th>M_state_interpolation</th>\n",
       "      <th>P_num_workers</th>\n",
       "    </tr>\n",
       "  </thead>\n",
       "  <tbody>\n",
       "    <tr>\n",
       "      <th>0</th>\n",
       "      <td>250</td>\n",
       "      <td>513.509167</td>\n",
       "      <td>38.621479</td>\n",
       "      <td>1139.533778</td>\n",
       "      <td>300</td>\n",
       "      <td>2048</td>\n",
       "      <td>50</td>\n",
       "      <td>25</td>\n",
       "      <td>1250</td>\n",
       "      <td>1000</td>\n",
       "      <td>...</td>\n",
       "      <td>1</td>\n",
       "      <td>32</td>\n",
       "      <td>cycle</td>\n",
       "      <td>{'cycle_length': 20, 'NS_mult': 1.0, 'EW_mult'...</td>\n",
       "      <td>[3, 3]</td>\n",
       "      <td>False</td>\n",
       "      <td>0.05</td>\n",
       "      <td>0</td>\n",
       "      <td>0</td>\n",
       "      <td>8</td>\n",
       "    </tr>\n",
       "    <tr>\n",
       "      <th>1</th>\n",
       "      <td>300</td>\n",
       "      <td>511.363333</td>\n",
       "      <td>40.813751</td>\n",
       "      <td>1141.940111</td>\n",
       "      <td>300</td>\n",
       "      <td>2048</td>\n",
       "      <td>50</td>\n",
       "      <td>25</td>\n",
       "      <td>1250</td>\n",
       "      <td>1000</td>\n",
       "      <td>...</td>\n",
       "      <td>1</td>\n",
       "      <td>32</td>\n",
       "      <td>cycle</td>\n",
       "      <td>{'cycle_length': 20, 'NS_mult': 1.0, 'EW_mult'...</td>\n",
       "      <td>[3, 3]</td>\n",
       "      <td>False</td>\n",
       "      <td>0.05</td>\n",
       "      <td>0</td>\n",
       "      <td>0</td>\n",
       "      <td>8</td>\n",
       "    </tr>\n",
       "    <tr>\n",
       "      <th>2</th>\n",
       "      <td>308</td>\n",
       "      <td>491.545833</td>\n",
       "      <td>38.034952</td>\n",
       "      <td>1145.147556</td>\n",
       "      <td>300</td>\n",
       "      <td>2048</td>\n",
       "      <td>50</td>\n",
       "      <td>25</td>\n",
       "      <td>1250</td>\n",
       "      <td>1000</td>\n",
       "      <td>...</td>\n",
       "      <td>1</td>\n",
       "      <td>32</td>\n",
       "      <td>cycle</td>\n",
       "      <td>{'cycle_length': 20, 'NS_mult': 1.0, 'EW_mult'...</td>\n",
       "      <td>[3, 3]</td>\n",
       "      <td>False</td>\n",
       "      <td>0.05</td>\n",
       "      <td>0</td>\n",
       "      <td>0</td>\n",
       "      <td>8</td>\n",
       "    </tr>\n",
       "    <tr>\n",
       "      <th>3</th>\n",
       "      <td>250</td>\n",
       "      <td>520.530833</td>\n",
       "      <td>38.971926</td>\n",
       "      <td>1138.732444</td>\n",
       "      <td>300</td>\n",
       "      <td>2048</td>\n",
       "      <td>50</td>\n",
       "      <td>25</td>\n",
       "      <td>1250</td>\n",
       "      <td>1000</td>\n",
       "      <td>...</td>\n",
       "      <td>1</td>\n",
       "      <td>32</td>\n",
       "      <td>cycle</td>\n",
       "      <td>{'cycle_length': 20, 'NS_mult': 1.0, 'EW_mult'...</td>\n",
       "      <td>[3, 3]</td>\n",
       "      <td>False</td>\n",
       "      <td>0.05</td>\n",
       "      <td>0</td>\n",
       "      <td>0</td>\n",
       "      <td>8</td>\n",
       "    </tr>\n",
       "    <tr>\n",
       "      <th>4</th>\n",
       "      <td>250</td>\n",
       "      <td>488.763333</td>\n",
       "      <td>39.428385</td>\n",
       "      <td>1146.711444</td>\n",
       "      <td>300</td>\n",
       "      <td>2048</td>\n",
       "      <td>50</td>\n",
       "      <td>25</td>\n",
       "      <td>1250</td>\n",
       "      <td>1000</td>\n",
       "      <td>...</td>\n",
       "      <td>1</td>\n",
       "      <td>32</td>\n",
       "      <td>cycle</td>\n",
       "      <td>{'cycle_length': 20, 'NS_mult': 1.0, 'EW_mult'...</td>\n",
       "      <td>[3, 3]</td>\n",
       "      <td>False</td>\n",
       "      <td>0.05</td>\n",
       "      <td>0</td>\n",
       "      <td>0</td>\n",
       "      <td>8</td>\n",
       "    </tr>\n",
       "  </tbody>\n",
       "</table>\n",
       "<p>5 rows × 33 columns</p>\n",
       "</div>"
      ],
      "text/plain": [
       "   rollout  waitingTime       time          rew  Ep_num_train_rollouts  \\\n",
       "0      250   513.509167  38.621479  1139.533778                    300   \n",
       "1      300   511.363333  40.813751  1141.940111                    300   \n",
       "2      308   491.545833  38.034952  1145.147556                    300   \n",
       "3      250   520.530833  38.971926  1138.732444                    300   \n",
       "4      250   488.763333  39.428385  1146.711444                    300   \n",
       "\n",
       "   Ep_rollout_length  Ep_eval_freq  Ep_eval_num_eps  Ep_max_ep_steps  \\\n",
       "0               2048            50               25             1250   \n",
       "1               2048            50               25             1250   \n",
       "2               2048            50               25             1250   \n",
       "3               2048            50               25             1250   \n",
       "4               2048            50               25             1250   \n",
       "\n",
       "   Ep_generation_ep_steps  ...  P_value_loss_coef  P_hidden_layer_size  \\\n",
       "0                    1000  ...                  1                   32   \n",
       "1                    1000  ...                  1                   32   \n",
       "2                    1000  ...                  1                   32   \n",
       "3                    1000  ...                  1                   32   \n",
       "4                    1000  ...                  1                   32   \n",
       "\n",
       "  R_rule_set                                  R_rule_set_params  En_shape  \\\n",
       "0      cycle  {'cycle_length': 20, 'NS_mult': 1.0, 'EW_mult'...    [3, 3]   \n",
       "1      cycle  {'cycle_length': 20, 'NS_mult': 1.0, 'EW_mult'...    [3, 3]   \n",
       "2      cycle  {'cycle_length': 20, 'NS_mult': 1.0, 'EW_mult'...    [3, 3]   \n",
       "3      cycle  {'cycle_length': 20, 'NS_mult': 1.0, 'EW_mult'...    [3, 3]   \n",
       "4      cycle  {'cycle_length': 20, 'NS_mult': 1.0, 'EW_mult'...    [3, 3]   \n",
       "\n",
       "   En_rush_hour  En_uniform_generation_probability  M_reward_interpolation  \\\n",
       "0         False                               0.05                       0   \n",
       "1         False                               0.05                       0   \n",
       "2         False                               0.05                       0   \n",
       "3         False                               0.05                       0   \n",
       "4         False                               0.05                       0   \n",
       "\n",
       "   M_state_interpolation  P_num_workers  \n",
       "0                      0              8  \n",
       "1                      0              8  \n",
       "2                      0              8  \n",
       "3                      0              8  \n",
       "4                      0              8  \n",
       "\n",
       "[5 rows x 33 columns]"
      ]
     },
     "execution_count": 6,
     "metadata": {},
     "output_type": "execute_result"
    }
   ],
   "source": [
    "data.head()"
   ]
  },
  {
   "cell_type": "markdown",
   "metadata": {},
   "source": [
    "# Notes\n",
    "- rollout_length: at least 1024 (2048 is better)\n",
    "- gae_tau: at most 0.9 (maybe lower)\n",
    "- entropy_weight: at least 0.1 (test higher)\n",
    "- minibatch_size: at least 128 (maybe higher)\n",
    "- optimization_epochs: 5 but 10 is very close\n",
    "- ppo_ratio_clip: 0.3 but 0.2 is close\n",
    "- clip_grads: true\n",
    "- value_loss_coef: 1.0\n",
    "- reward_interpolation: 0 \n",
    "- state_interpolation: anything\n",
    "- warmup_ep_steps: anything (0)\n",
    "\n",
    "\n",
    "- NS_mult: 1.0 or 1.5\n",
    "- phase_end_offset: any (0 - 100)\n",
    "- multi intersection cycle length: 20\n",
    "- (best combo 1.5, 100, 20)"
   ]
  },
  {
   "cell_type": "code",
   "execution_count": 8,
   "metadata": {},
   "outputs": [
    {
     "data": {
      "text/plain": [
       "505.47277777777776"
      ]
     },
     "execution_count": 8,
     "metadata": {},
     "output_type": "execute_result"
    }
   ],
   "source": [
    "data[data['Ep_warmup_ep_steps'] == 0]['waitingTime'].mean()"
   ]
  },
  {
   "cell_type": "code",
   "execution_count": 9,
   "metadata": {
    "scrolled": false
   },
   "outputs": [
    {
     "data": {
      "text/plain": [
       "509.30361111111114"
      ]
     },
     "execution_count": 9,
     "metadata": {},
     "output_type": "execute_result"
    }
   ],
   "source": [
    "data[data['Ep_warmup_ep_steps'] == 50]['waitingTime'].mean()"
   ]
  },
  {
   "cell_type": "code",
   "execution_count": 10,
   "metadata": {},
   "outputs": [
    {
     "data": {
      "text/plain": [
       "510.13444444444445"
      ]
     },
     "execution_count": 10,
     "metadata": {},
     "output_type": "execute_result"
    }
   ],
   "source": [
    "data[data['Ep_warmup_ep_steps'] == 100]['waitingTime'].mean()"
   ]
  },
  {
   "cell_type": "code",
   "execution_count": 11,
   "metadata": {},
   "outputs": [
    {
     "data": {
      "text/plain": [
       "520.2569444444445"
      ]
     },
     "execution_count": 11,
     "metadata": {},
     "output_type": "execute_result"
    }
   ],
   "source": [
    "data[data['Ep_warmup_ep_steps'] == 200]['waitingTime'].mean()"
   ]
  },
  {
   "cell_type": "code",
   "execution_count": 11,
   "metadata": {},
   "outputs": [
    {
     "data": {
      "text/plain": [
       "533.9041666666666"
      ]
     },
     "execution_count": 11,
     "metadata": {},
     "output_type": "execute_result"
    }
   ],
   "source": [
    "data[data['M_state_interpolation'] == 1]['waitingTime'].mean()"
   ]
  },
  {
   "cell_type": "code",
   "execution_count": null,
   "metadata": {
    "collapsed": true
   },
   "outputs": [],
   "source": []
  }
 ],
 "metadata": {
  "kernelspec": {
   "display_name": "Python 3",
   "language": "python",
   "name": "python3"
  },
  "language_info": {
   "codemirror_mode": {
    "name": "ipython",
    "version": 3
   },
   "file_extension": ".py",
   "mimetype": "text/x-python",
   "name": "python",
   "nbconvert_exporter": "python",
   "pygments_lexer": "ipython3",
   "version": "3.6.8"
  }
 },
 "nbformat": 4,
 "nbformat_minor": 2
}
